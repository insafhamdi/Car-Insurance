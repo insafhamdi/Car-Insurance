{
  "nbformat": 4,
  "nbformat_minor": 0,
  "metadata": {
    "colab": {
      "provenance": [],
      "authorship_tag": "ABX9TyP+82CVDJplWKjwF4VGuR/Q",
      "include_colab_link": true
    },
    "kernelspec": {
      "name": "python3",
      "display_name": "Python 3"
    },
    "language_info": {
      "name": "python"
    }
  },
  "cells": [
    {
      "cell_type": "markdown",
      "metadata": {
        "id": "view-in-github",
        "colab_type": "text"
      },
      "source": [
        "<a href=\"https://colab.research.google.com/github/insafhamdi/Car-Insurance/blob/main/Car_Insurance.ipynb\" target=\"_parent\"><img src=\"https://colab.research.google.com/assets/colab-badge.svg\" alt=\"Open In Colab\"/></a>"
      ]
    },
    {
      "cell_type": "code",
      "execution_count": 1,
      "metadata": {
        "colab": {
          "base_uri": "https://localhost:8080/",
          "height": 1000
        },
        "id": "AiH0GeIxPcof",
        "outputId": "8d227570-eb38-473f-e159-1a6a87351f35"
      },
      "outputs": [
        {
          "output_type": "stream",
          "name": "stdout",
          "text": [
            "<class 'pandas.core.frame.DataFrame'>\n",
            "RangeIndex: 10000 entries, 0 to 9999\n",
            "Data columns (total 18 columns):\n",
            " #   Column               Non-Null Count  Dtype  \n",
            "---  ------               --------------  -----  \n",
            " 0   id                   10000 non-null  int64  \n",
            " 1   age                  10000 non-null  int64  \n",
            " 2   gender               10000 non-null  int64  \n",
            " 3   driving_experience   10000 non-null  object \n",
            " 4   education            10000 non-null  object \n",
            " 5   income               10000 non-null  object \n",
            " 6   credit_score         9018 non-null   float64\n",
            " 7   vehicle_ownership    10000 non-null  float64\n",
            " 8   vehicle_year         10000 non-null  object \n",
            " 9   married              10000 non-null  float64\n",
            " 10  children             10000 non-null  float64\n",
            " 11  postal_code          10000 non-null  int64  \n",
            " 12  annual_mileage       9043 non-null   float64\n",
            " 13  vehicle_type         10000 non-null  object \n",
            " 14  speeding_violations  10000 non-null  int64  \n",
            " 15  duis                 10000 non-null  int64  \n",
            " 16  past_accidents       10000 non-null  int64  \n",
            " 17  outcome              10000 non-null  float64\n",
            "dtypes: float64(6), int64(7), object(5)\n",
            "memory usage: 1.4+ MB\n",
            "Optimization terminated successfully.\n",
            "         Current function value: 0.511794\n",
            "         Iterations 6\n",
            "Optimization terminated successfully.\n",
            "         Current function value: 0.615951\n",
            "         Iterations 5\n",
            "Optimization terminated successfully.\n",
            "         Current function value: 0.467092\n",
            "         Iterations 8\n",
            "Optimization terminated successfully.\n",
            "         Current function value: 0.603742\n",
            "         Iterations 5\n",
            "Optimization terminated successfully.\n",
            "         Current function value: 0.531499\n",
            "         Iterations 6\n",
            "Optimization terminated successfully.\n",
            "         Current function value: 0.572557\n",
            "         Iterations 6\n",
            "Optimization terminated successfully.\n",
            "         Current function value: 0.552412\n",
            "         Iterations 5\n",
            "Optimization terminated successfully.\n",
            "         Current function value: 0.572668\n",
            "         Iterations 6\n",
            "Optimization terminated successfully.\n",
            "         Current function value: 0.586659\n",
            "         Iterations 5\n",
            "Optimization terminated successfully.\n",
            "         Current function value: 0.595431\n",
            "         Iterations 5\n",
            "Optimization terminated successfully.\n",
            "         Current function value: 0.617345\n",
            "         Iterations 5\n",
            "Optimization terminated successfully.\n",
            "         Current function value: 0.605716\n",
            "         Iterations 5\n",
            "Optimization terminated successfully.\n",
            "         Current function value: 0.621700\n",
            "         Iterations 5\n",
            "Optimization terminated successfully.\n",
            "         Current function value: 0.558922\n",
            "         Iterations 7\n",
            "Optimization terminated successfully.\n",
            "         Current function value: 0.598699\n",
            "         Iterations 6\n",
            "Optimization terminated successfully.\n",
            "         Current function value: 0.549220\n",
            "         Iterations 7\n"
          ]
        },
        {
          "output_type": "execute_result",
          "data": {
            "text/plain": [
              "         best_feature  best_accuracy\n",
              "0  driving_experience         0.7771"
            ],
            "text/html": [
              "\n",
              "  <div id=\"df-ea863e9e-e6f2-4643-90f2-b5dc28b694cb\" class=\"colab-df-container\">\n",
              "    <div>\n",
              "<style scoped>\n",
              "    .dataframe tbody tr th:only-of-type {\n",
              "        vertical-align: middle;\n",
              "    }\n",
              "\n",
              "    .dataframe tbody tr th {\n",
              "        vertical-align: top;\n",
              "    }\n",
              "\n",
              "    .dataframe thead th {\n",
              "        text-align: right;\n",
              "    }\n",
              "</style>\n",
              "<table border=\"1\" class=\"dataframe\">\n",
              "  <thead>\n",
              "    <tr style=\"text-align: right;\">\n",
              "      <th></th>\n",
              "      <th>best_feature</th>\n",
              "      <th>best_accuracy</th>\n",
              "    </tr>\n",
              "  </thead>\n",
              "  <tbody>\n",
              "    <tr>\n",
              "      <th>0</th>\n",
              "      <td>driving_experience</td>\n",
              "      <td>0.7771</td>\n",
              "    </tr>\n",
              "  </tbody>\n",
              "</table>\n",
              "</div>\n",
              "    <div class=\"colab-df-buttons\">\n",
              "\n",
              "  <div class=\"colab-df-container\">\n",
              "    <button class=\"colab-df-convert\" onclick=\"convertToInteractive('df-ea863e9e-e6f2-4643-90f2-b5dc28b694cb')\"\n",
              "            title=\"Convert this dataframe to an interactive table.\"\n",
              "            style=\"display:none;\">\n",
              "\n",
              "  <svg xmlns=\"http://www.w3.org/2000/svg\" height=\"24px\" viewBox=\"0 -960 960 960\">\n",
              "    <path d=\"M120-120v-720h720v720H120Zm60-500h600v-160H180v160Zm220 220h160v-160H400v160Zm0 220h160v-160H400v160ZM180-400h160v-160H180v160Zm440 0h160v-160H620v160ZM180-180h160v-160H180v160Zm440 0h160v-160H620v160Z\"/>\n",
              "  </svg>\n",
              "    </button>\n",
              "\n",
              "  <style>\n",
              "    .colab-df-container {\n",
              "      display:flex;\n",
              "      gap: 12px;\n",
              "    }\n",
              "\n",
              "    .colab-df-convert {\n",
              "      background-color: #E8F0FE;\n",
              "      border: none;\n",
              "      border-radius: 50%;\n",
              "      cursor: pointer;\n",
              "      display: none;\n",
              "      fill: #1967D2;\n",
              "      height: 32px;\n",
              "      padding: 0 0 0 0;\n",
              "      width: 32px;\n",
              "    }\n",
              "\n",
              "    .colab-df-convert:hover {\n",
              "      background-color: #E2EBFA;\n",
              "      box-shadow: 0px 1px 2px rgba(60, 64, 67, 0.3), 0px 1px 3px 1px rgba(60, 64, 67, 0.15);\n",
              "      fill: #174EA6;\n",
              "    }\n",
              "\n",
              "    .colab-df-buttons div {\n",
              "      margin-bottom: 4px;\n",
              "    }\n",
              "\n",
              "    [theme=dark] .colab-df-convert {\n",
              "      background-color: #3B4455;\n",
              "      fill: #D2E3FC;\n",
              "    }\n",
              "\n",
              "    [theme=dark] .colab-df-convert:hover {\n",
              "      background-color: #434B5C;\n",
              "      box-shadow: 0px 1px 3px 1px rgba(0, 0, 0, 0.15);\n",
              "      filter: drop-shadow(0px 1px 2px rgba(0, 0, 0, 0.3));\n",
              "      fill: #FFFFFF;\n",
              "    }\n",
              "  </style>\n",
              "\n",
              "    <script>\n",
              "      const buttonEl =\n",
              "        document.querySelector('#df-ea863e9e-e6f2-4643-90f2-b5dc28b694cb button.colab-df-convert');\n",
              "      buttonEl.style.display =\n",
              "        google.colab.kernel.accessAllowed ? 'block' : 'none';\n",
              "\n",
              "      async function convertToInteractive(key) {\n",
              "        const element = document.querySelector('#df-ea863e9e-e6f2-4643-90f2-b5dc28b694cb');\n",
              "        const dataTable =\n",
              "          await google.colab.kernel.invokeFunction('convertToInteractive',\n",
              "                                                    [key], {});\n",
              "        if (!dataTable) return;\n",
              "\n",
              "        const docLinkHtml = 'Like what you see? Visit the ' +\n",
              "          '<a target=\"_blank\" href=https://colab.research.google.com/notebooks/data_table.ipynb>data table notebook</a>'\n",
              "          + ' to learn more about interactive tables.';\n",
              "        element.innerHTML = '';\n",
              "        dataTable['output_type'] = 'display_data';\n",
              "        await google.colab.output.renderOutput(dataTable, element);\n",
              "        const docLink = document.createElement('div');\n",
              "        docLink.innerHTML = docLinkHtml;\n",
              "        element.appendChild(docLink);\n",
              "      }\n",
              "    </script>\n",
              "  </div>\n",
              "\n",
              "    </div>\n",
              "  </div>\n"
            ],
            "application/vnd.google.colaboratory.intrinsic+json": {
              "type": "dataframe",
              "variable_name": "best_feature_df",
              "summary": "{\n  \"name\": \"best_feature_df\",\n  \"rows\": 1,\n  \"fields\": [\n    {\n      \"column\": \"best_feature\",\n      \"properties\": {\n        \"dtype\": \"string\",\n        \"num_unique_values\": 1,\n        \"samples\": [\n          \"driving_experience\"\n        ],\n        \"semantic_type\": \"\",\n        \"description\": \"\"\n      }\n    },\n    {\n      \"column\": \"best_accuracy\",\n      \"properties\": {\n        \"dtype\": \"number\",\n        \"std\": null,\n        \"min\": 0.7771,\n        \"max\": 0.7771,\n        \"num_unique_values\": 1,\n        \"samples\": [\n          0.7771\n        ],\n        \"semantic_type\": \"\",\n        \"description\": \"\"\n      }\n    }\n  ]\n}"
            }
          },
          "metadata": {},
          "execution_count": 1
        }
      ],
      "source": [
        "# Import required modules\n",
        "import pandas as pd\n",
        "import numpy as np\n",
        "from statsmodels.formula.api import logit\n",
        "\n",
        "# Read in dataset\n",
        "cars = pd.read_csv(\"/car_insurance.csv\")\n",
        "\n",
        "# Check for missing values\n",
        "cars.info()\n",
        "\n",
        "# Fill missing values with the mean\n",
        "cars[\"credit_score\"].fillna(cars[\"credit_score\"].mean(), inplace=True)\n",
        "cars[\"annual_mileage\"].fillna(cars[\"annual_mileage\"].mean(), inplace=True)\n",
        "\n",
        "# Empty list to store model results\n",
        "models = []\n",
        "\n",
        "# Feature columns\n",
        "features = cars.drop(columns=[\"id\", \"outcome\"]).columns\n",
        "\n",
        "# Loop through features\n",
        "for col in features:\n",
        "    # Create a model\n",
        "    model = logit(f\"outcome ~ {col}\", data=cars).fit()\n",
        "    # Add each model to the models list\n",
        "    models.append(model)\n",
        "\n",
        "# Empty list to store accuracies\n",
        "accuracies = []\n",
        "\n",
        "# Loop through models\n",
        "for feature in range(0, len(models)):\n",
        "    # Compute the confusion matrix\n",
        "    conf_matrix = models[feature].pred_table()\n",
        "    # True negatives\n",
        "    tn = conf_matrix[0,0]\n",
        "    # True positives\n",
        "    tp = conf_matrix[1,1]\n",
        "    # False negatives\n",
        "    fn = conf_matrix[1,0]\n",
        "    # False positives\n",
        "    fp = conf_matrix[0,1]\n",
        "    # Compute accuracy\n",
        "    acc = (tn + tp) / (tn + fn + fp + tp)\n",
        "    accuracies.append(acc)\n",
        "\n",
        "# Find the feature with the largest accuracy\n",
        "best_feature = features[accuracies.index(max(accuracies))]\n",
        "\n",
        "# Create best_feature_df\n",
        "best_feature_df = pd.DataFrame({\"best_feature\": best_feature,\n",
        "                                \"best_accuracy\": max(accuracies)},\n",
        "                                index=[0])\n",
        "best_feature_df"
      ]
    },
    {
      "cell_type": "markdown",
      "source": [
        "## 1. Préparation de la base\n"
      ],
      "metadata": {
        "id": "o4ovAMpNQqvl"
      }
    },
    {
      "cell_type": "code",
      "source": [
        "import pandas as pd\n",
        "from sklearn.preprocessing import LabelEncoder, OneHotEncoder\n",
        "from sklearn.impute import SimpleImputer\n",
        "\n",
        "\n",
        "\n",
        "# Imputation des valeurs manquantes\n",
        "imputer = SimpleImputer(strategy='mean')\n",
        "cars['credit_score'] = imputer.fit_transform(cars[['credit_score']])\n",
        "cars['annual_mileage'] = imputer.fit_transform(cars[['annual_mileage']])\n",
        "\n",
        "# Encodage des variables catégorielles\n",
        "label_encoder = LabelEncoder()\n",
        "categorical_vars = ['gender', 'driving_experience', 'education', 'income', 'vehicle_ownership', 'vehicle_year', 'married', 'vehicle_type', 'postal_code']\n",
        "for col in categorical_vars:\n",
        "    cars[col] = label_encoder.fit_transform(cars[col])\n",
        "\n",
        "# Affichage des premières lignes pour vérifier\n",
        "print(cars.head())\n",
        "\n"
      ],
      "metadata": {
        "colab": {
          "base_uri": "https://localhost:8080/"
        },
        "id": "BHcz8qHcQsG8",
        "outputId": "8673d787-2ba7-48e8-f15e-f1f37569bede"
      },
      "execution_count": 4,
      "outputs": [
        {
          "output_type": "stream",
          "name": "stdout",
          "text": [
            "       id  age  gender  driving_experience  education  income  credit_score  \\\n",
            "0  569520    3       0                   0          0       2      0.629027   \n",
            "1  750365    0       1                   0          1       1      0.357757   \n",
            "2  199901    0       0                   0          0       3      0.493146   \n",
            "3  478866    0       1                   0          2       3      0.206013   \n",
            "4  731664    1       1                   1          1       3      0.388366   \n",
            "\n",
            "   vehicle_ownership  vehicle_year  married  children  postal_code  \\\n",
            "0                  1             0        0       1.0            0   \n",
            "1                  0             1        0       0.0            0   \n",
            "2                  1             1        0       0.0            0   \n",
            "3                  1             1        0       1.0            2   \n",
            "4                  1             1        0       0.0            2   \n",
            "\n",
            "   annual_mileage  vehicle_type  speeding_violations  duis  past_accidents  \\\n",
            "0         12000.0             0                    0     0               0   \n",
            "1         16000.0             0                    0     0               0   \n",
            "2         11000.0             0                    0     0               0   \n",
            "3         11000.0             0                    0     0               0   \n",
            "4         12000.0             0                    2     0               1   \n",
            "\n",
            "   outcome  \n",
            "0      0.0  \n",
            "1      1.0  \n",
            "2      0.0  \n",
            "3      0.0  \n",
            "4      1.0  \n"
          ]
        }
      ]
    },
    {
      "cell_type": "markdown",
      "source": [
        "## 2. Equilibrage des données"
      ],
      "metadata": {
        "id": "HSSOAEbeQuUl"
      }
    },
    {
      "cell_type": "code",
      "source": [
        "from imblearn.over_sampling import SMOTE\n",
        "\n",
        "# Vérifier l'équilibre des classes\n",
        "balance = cars['outcome'].value_counts(normalize=True)\n",
        "print(balance)\n",
        "\n",
        "# Appliquer SMOTE si déséquilibré\n",
        "if balance.min() < 0.4:  # Utiliser un seuil de 0.4 comme exemple\n",
        "    smote = SMOTE(random_state=42)\n",
        "    X = cars.drop('outcome', axis=1)\n",
        "    y = cars['outcome']\n",
        "    X_sm, y_sm = smote.fit_resample(X, y)\n",
        "    data_smote = pd.concat([X_sm, y_sm], axis=1)\n",
        "else:\n",
        "    data_smote = cars\n",
        "\n",
        "# Affichage des nouvelles proportions\n",
        "print(data_smote['outcome'].value_counts(normalize=True))\n",
        "\n"
      ],
      "metadata": {
        "colab": {
          "base_uri": "https://localhost:8080/"
        },
        "id": "keYFX8TwQ5v2",
        "outputId": "6a58623c-2157-4214-f1ce-69c2a758ba76"
      },
      "execution_count": 6,
      "outputs": [
        {
          "output_type": "stream",
          "name": "stdout",
          "text": [
            "outcome\n",
            "0.0    0.6867\n",
            "1.0    0.3133\n",
            "Name: proportion, dtype: float64\n",
            "outcome\n",
            "0.0    0.5\n",
            "1.0    0.5\n",
            "Name: proportion, dtype: float64\n"
          ]
        }
      ]
    },
    {
      "cell_type": "markdown",
      "source": [
        "## 4.Séléction des variables"
      ],
      "metadata": {
        "id": "UC3-fMATTqIp"
      }
    },
    {
      "cell_type": "markdown",
      "source": [
        "### a. SelectKBest"
      ],
      "metadata": {
        "id": "9O4nHYfjTywZ"
      }
    },
    {
      "cell_type": "code",
      "source": [
        "from sklearn.feature_selection import SelectKBest, f_classif\n",
        "\n",
        "# Préparation des données\n",
        "X = cars.drop('outcome', axis=1)\n",
        "y = cars['outcome']\n",
        "\n",
        "# Sélection des k meilleures caractéristiques\n",
        "selector = SelectKBest(score_func=f_classif, k=5)  # Sélectionner 5 meilleures caractéristiques\n",
        "X_new = selector.fit_transform(X, y)\n",
        "\n",
        "# Afficher les caractéristiques sélectionnées\n",
        "selected_features = X.columns[selector.get_support(indices=True)]\n",
        "print(\"SelectKBest selected features:\", selected_features)\n"
      ],
      "metadata": {
        "colab": {
          "base_uri": "https://localhost:8080/"
        },
        "id": "dQvFAKj3Ttih",
        "outputId": "5ed7b399-5d49-47c0-b882-9f2f438dd81a"
      },
      "execution_count": 7,
      "outputs": [
        {
          "output_type": "stream",
          "name": "stdout",
          "text": [
            "SelectKBest selected features: Index(['age', 'driving_experience', 'credit_score', 'vehicle_ownership',\n",
            "       'past_accidents'],\n",
            "      dtype='object')\n"
          ]
        }
      ]
    },
    {
      "cell_type": "markdown",
      "source": [
        "### b. RFECV"
      ],
      "metadata": {
        "id": "CLHvgovYT7Qi"
      }
    },
    {
      "cell_type": "code",
      "source": [
        "import matplotlib.pyplot as plt\n",
        "from sklearn.feature_selection import RFECV\n",
        "from sklearn.ensemble import RandomForestClassifier  # Assuming you're using RandomForest as estimator\n",
        "\n",
        "# Assuming 'X' and 'y' are your features and target arrays respectively\n",
        "estimator = RandomForestClassifier()\n",
        "rfecv = RFECV(estimator, step=1, cv=5)\n",
        "rfecv.fit(X, y)\n",
        "\n",
        "# Plotting the number of features vs. cross-validation scores\n",
        "plt.figure()\n",
        "plt.title(\"RFECV - Optimal number of features\")\n",
        "plt.xlabel(\"Number of features selected\")\n",
        "plt.ylabel(\"Cross-validation score (accuracy)\")\n",
        "plt.plot(range(1, len(rfecv.cv_results_['mean_test_score']) + 1), rfecv.cv_results_['mean_test_score'])\n",
        "plt.show()\n",
        "\n"
      ],
      "metadata": {
        "colab": {
          "base_uri": "https://localhost:8080/",
          "height": 472
        },
        "id": "atbDGZ4OUDfb",
        "outputId": "e84fd6ca-3918-4d7d-e3d5-18c6a0de6703"
      },
      "execution_count": 12,
      "outputs": [
        {
          "output_type": "display_data",
          "data": {
            "text/plain": [
              "<Figure size 640x480 with 1 Axes>"
            ],
            "image/png": "[encoded data removed]"
          },
          "metadata": {}
        }
      ]
    },
    {
      "cell_type": "markdown",
      "source": [
        "## 5) Tuning des modèles\n",
        "### a. Régression Logistique (RL)"
      ],
      "metadata": {
        "id": "TYtDOkl_UQ7F"
      }
    },
    {
      "cell_type": "code",
      "source": [
        "from sklearn.linear_model import LogisticRegression\n",
        "from sklearn.model_selection import GridSearchCV\n",
        "\n",
        "# Définir la grille de paramètres\n",
        "param_grid_lr = {\n",
        "    'C': [0.1, 1, 10],  # Inverse de la force de régularisation\n",
        "    'penalty': ['l2'],  # L1 entraîne des erreurs sous certaines versions de scikit-learn\n",
        "    'solver': ['lbfgs', 'sag', 'saga']  # Solvers différents\n",
        "}\n",
        "\n",
        "# Initialiser le modèle de Régression Logistique\n",
        "logreg = LogisticRegression(max_iter=10000)\n",
        "\n",
        "# GridSearchCV\n",
        "grid_lr = GridSearchCV(logreg, param_grid_lr, cv=5, scoring='accuracy')\n",
        "grid_lr.fit(X, y)\n",
        "\n",
        "# Meilleurs paramètres et score\n",
        "print(\"Meilleurs paramètres pour RL:\", grid_lr.best_params_)\n",
        "print(\"Meilleur score pour RL:\", grid_lr.best_score_)\n"
      ],
      "metadata": {
        "colab": {
          "base_uri": "https://localhost:8080/"
        },
        "id": "EHgzvWRZUXWW",
        "outputId": "cc2878ef-a850-4af1-f708-314006202154"
      },
      "execution_count": 9,
      "outputs": [
        {
          "output_type": "stream",
          "name": "stdout",
          "text": [
            "Meilleurs paramètres pour RL: {'C': 0.1, 'penalty': 'l2', 'solver': 'lbfgs'}\n",
            "Meilleur score pour RL: 0.7307\n"
          ]
        }
      ]
    },
    {
      "cell_type": "markdown",
      "source": [
        "### b. Arbre de décision"
      ],
      "metadata": {
        "id": "QnjwmAMMUh1P"
      }
    },
    {
      "cell_type": "code",
      "source": [
        "from sklearn.tree import DecisionTreeClassifier\n",
        "\n",
        "# Définir la grille de paramètres\n",
        "param_grid_dt = {\n",
        "    'max_depth': [None, 10, 20, 30],\n",
        "    'min_samples_split': [2, 10, 20],\n",
        "    'min_samples_leaf': [1, 5, 10]\n",
        "}\n",
        "\n",
        "# Initialiser l'Arbre de décision\n",
        "decision_tree = DecisionTreeClassifier()\n",
        "\n",
        "# GridSearchCV\n",
        "grid_dt = GridSearchCV(decision_tree, param_grid_dt, cv=5, scoring='accuracy')\n",
        "grid_dt.fit(X, y)\n",
        "\n",
        "# Meilleurs paramètres et score\n",
        "print(\"Meilleurs paramètres pour l'Arbre:\", grid_dt.best_params_)\n",
        "print(\"Meilleur score pour l'Arbre:\", grid_dt.best_score_)\n"
      ],
      "metadata": {
        "colab": {
          "base_uri": "https://localhost:8080/"
        },
        "id": "UpSZTya6Uld3",
        "outputId": "277fee93-b385-49ed-b7d2-38c548a49a8f"
      },
      "execution_count": 10,
      "outputs": [
        {
          "output_type": "stream",
          "name": "stdout",
          "text": [
            "Meilleurs paramètres pour l'Arbre: {'max_depth': 10, 'min_samples_leaf': 10, 'min_samples_split': 2}\n",
            "Meilleur score pour l'Arbre: 0.8301999999999999\n"
          ]
        }
      ]
    },
    {
      "cell_type": "markdown",
      "source": [
        "### c. Random Forest"
      ],
      "metadata": {
        "id": "3SZ0lgmTUqbP"
      }
    },
    {
      "cell_type": "code",
      "source": [
        "from sklearn.ensemble import RandomForestClassifier\n",
        "\n",
        "# Définir la grille de paramètres\n",
        "param_grid_rf = {\n",
        "    'n_estimators': [50, 100, 200],  # Nombre d'arbres\n",
        "    'max_depth': [None, 10, 20, 30],  # Profondeur maximale\n",
        "    'min_samples_split': [2, 10, 20],\n",
        "    'min_samples_leaf': [1, 5, 10]\n",
        "}\n",
        "\n",
        "# Initialiser le Random Forest\n",
        "random_forest = RandomForestClassifier()\n",
        "\n",
        "# GridSearchCV\n",
        "grid_rf = GridSearchCV(random_forest, param_grid_rf, cv=5, scoring='accuracy')\n",
        "grid_rf.fit(X, y)\n",
        "\n",
        "# Meilleurs paramètres et score\n",
        "print(\"Meilleurs paramètres pour RF:\", grid_rf.best_params_)\n",
        "print(\"Meilleur score pour RF:\", grid_rf.best_score_)\n"
      ],
      "metadata": {
        "colab": {
          "base_uri": "https://localhost:8080/"
        },
        "id": "uofcz6BSUtph",
        "outputId": "0b733ff7-28b0-4048-c5a0-756f0a72bf33"
      },
      "execution_count": 11,
      "outputs": [
        {
          "output_type": "stream",
          "name": "stdout",
          "text": [
            "Meilleurs paramètres pour RF: {'max_depth': 30, 'min_samples_leaf': 1, 'min_samples_split': 20, 'n_estimators': 50}\n",
            "Meilleur score pour RF: 0.8483\n"
          ]
        }
      ]
    },
    {
      "cell_type": "markdown",
      "source": [
        "**Régression Logistique :**\n",
        "\n",
        "Score: 0.7307\n",
        "Paramètres: Régularisation L2 avec un paramètre de pénalité C de 0.1.\n",
        "Commentaire: Offre des performances acceptables avec une bonne gestion du surajustement grâce à la régularisation.\n",
        "\n",
        "**Arbre de décision :**\n",
        "\n",
        "Score: 0.8302\n",
        "Paramètres: Profondeur maximale de 10, avec un minimum de 10 échantillons par feuille.\n",
        "Commentaire: Meilleure performance que la RL, équilibrant bien le biais et la variance, et évitant le surajustement avec des contraintes sur la croissance de l’arbre.\n",
        "\n",
        "**Random Forest :**\n",
        "\n",
        "Score: 0.8483\n",
        "Paramètres: 50 arbres, profondeur maximale de 30, 1 échantillon par feuille et 20 échantillons requis pour un split.\n",
        "Commentaire: Meilleure performance des trois, indiquant une excellente capacité à généraliser les données. Plus complexe et potentiellement plus coûteux en calcul.\n",
        "\n",
        "**Conclusion:**\n",
        "\n",
        "Le Random Forest s'est révélé être le modèle le plus performant, suivi de près par l'Arbre de décision. Ces modèles sont préférables pour leurs capacités à capturer des relations complexes dans les données. Le choix final du modèle pourrait dépendre des ressources disponibles et des exigences spécifiques en termes de vitesse et de coût de calcul. Il est recommandé de continuer à surveiller et à mettre à jour les modèles avec de nouvelles données pour maintenir leur efficacité.\n",
        "\n",
        "\n",
        "\n",
        "\n",
        "\n",
        "\n"
      ],
      "metadata": {
        "id": "hp-TfStKiZIt"
      }
    }
  ]
}